{
 "cells": [
  {
   "cell_type": "code",
   "execution_count": 79,
   "metadata": {},
   "outputs": [],
   "source": [
    "import pandas as pd\n",
    "import numpy as np\n",
    "import random"
   ]
  },
  {
   "cell_type": "code",
   "execution_count": 80,
   "metadata": {},
   "outputs": [],
   "source": [
    "df = pd.read_csv('datakecminim.csv') "
   ]
  },
  {
   "cell_type": "code",
   "execution_count": 81,
   "metadata": {},
   "outputs": [
    {
     "name": "stdout",
     "output_type": "stream",
     "text": [
      "           DIAJUKAN_DI    KAB_KOTA   KECAMATAN KODE_CIDERA     PROFESI  \\\n",
      "0      PERWAKILAN PATI        PATI        PATI          LL  WIRASWASTA   \n",
      "1  PERWAKILAN MAGELANG    WONOSOBO    WONOSOBO          MD  WIRASWASTA   \n",
      "2  PERWAKILAN MAGELANG    WONOSOBO    WONOSOBO          LL  WIRASWASTA   \n",
      "3  PERWAKILAN MAGELANG    WONOSOBO    WONOSOBO          MD   TNI POLRI   \n",
      "4  PERWAKILAN MAGELANG  TEMANGGUNG  TEMANGGUNG          MD  WIRASWASTA   \n",
      "\n",
      "   TANGGAL  BULAN  TAHUN    JAM       KARAKTERISTIK LAKA  \n",
      "0        2      1   2023   6:30           BERUNTUN/GANDA  \n",
      "1        7      1   2023  21:00              DEPAN-DEPAN  \n",
      "2        7      1   2023  21:00  PEJALAN-KAKI/SEJENISNYA  \n",
      "3       20      1   2023   5:00            DEPAN-SAMPING  \n",
      "4       24      1   2023   2:30              DEPAN-DEPAN  \n"
     ]
    }
   ],
   "source": [
    "print(df.head()) "
   ]
  },
  {
   "cell_type": "code",
   "execution_count": 82,
   "metadata": {},
   "outputs": [
    {
     "name": "stdout",
     "output_type": "stream",
     "text": [
      "<class 'pandas.core.frame.DataFrame'>\n",
      "RangeIndex: 36055 entries, 0 to 36054\n",
      "Data columns (total 10 columns):\n",
      " #   Column              Non-Null Count  Dtype \n",
      "---  ------              --------------  ----- \n",
      " 0   DIAJUKAN_DI         36055 non-null  object\n",
      " 1   KAB_KOTA            35991 non-null  object\n",
      " 2   KECAMATAN           30990 non-null  object\n",
      " 3   KODE_CIDERA         36055 non-null  object\n",
      " 4   PROFESI             36055 non-null  object\n",
      " 5   TANGGAL             36055 non-null  int64 \n",
      " 6   BULAN               36055 non-null  int64 \n",
      " 7   TAHUN               36055 non-null  int64 \n",
      " 8   JAM                 36055 non-null  object\n",
      " 9   KARAKTERISTIK LAKA  36055 non-null  object\n",
      "dtypes: int64(3), object(7)\n",
      "memory usage: 2.8+ MB\n",
      "None\n"
     ]
    }
   ],
   "source": [
    "print(df.info())   "
   ]
  },
  {
   "cell_type": "code",
   "execution_count": 83,
   "metadata": {},
   "outputs": [
    {
     "name": "stdout",
     "output_type": "stream",
     "text": [
      "DIAJUKAN_DI              0\n",
      "KAB_KOTA                64\n",
      "KECAMATAN             5065\n",
      "KODE_CIDERA              0\n",
      "PROFESI                  0\n",
      "TANGGAL                  0\n",
      "BULAN                    0\n",
      "TAHUN                    0\n",
      "JAM                      0\n",
      "KARAKTERISTIK LAKA       0\n",
      "dtype: int64\n"
     ]
    }
   ],
   "source": [
    "print(df.isnull().sum())  "
   ]
  },
  {
   "cell_type": "code",
   "execution_count": 84,
   "metadata": {},
   "outputs": [],
   "source": [
    "df = df.dropna()"
   ]
  },
  {
   "cell_type": "code",
   "execution_count": 85,
   "metadata": {},
   "outputs": [
    {
     "name": "stdout",
     "output_type": "stream",
     "text": [
      "           DIAJUKAN_DI    KAB_KOTA   KECAMATAN KODE_CIDERA     PROFESI  \\\n",
      "0      PERWAKILAN PATI        PATI        PATI          LL  WIRASWASTA   \n",
      "1  PERWAKILAN MAGELANG    WONOSOBO    WONOSOBO          MD  WIRASWASTA   \n",
      "2  PERWAKILAN MAGELANG    WONOSOBO    WONOSOBO          LL  WIRASWASTA   \n",
      "3  PERWAKILAN MAGELANG    WONOSOBO    WONOSOBO          MD   TNI POLRI   \n",
      "4  PERWAKILAN MAGELANG  TEMANGGUNG  TEMANGGUNG          MD  WIRASWASTA   \n",
      "\n",
      "        KARAKTERISTIK LAKA           DATE_TIME  \n",
      "0           BERUNTUN/GANDA 2023-01-02 06:30:00  \n",
      "1              DEPAN-DEPAN 2023-01-07 21:00:00  \n",
      "2  PEJALAN-KAKI/SEJENISNYA 2023-01-07 21:00:00  \n",
      "3            DEPAN-SAMPING 2023-01-20 05:00:00  \n",
      "4              DEPAN-DEPAN 2023-01-24 02:30:00  \n"
     ]
    }
   ],
   "source": [
    "df['DATE_TIME'] = pd.to_datetime(df[['TAHUN', 'BULAN', 'TANGGAL']].astype(str).agg('-'.join, axis=1) + ' ' + df['JAM'])\n",
    "df = df.drop(['TANGGAL', 'BULAN', 'TAHUN', 'JAM'], axis=1)  \n",
    "\n",
    "print(df.head())\n"
   ]
  },
  {
   "cell_type": "code",
   "execution_count": 86,
   "metadata": {},
   "outputs": [],
   "source": [
    "\n",
    "df['KARAKTERISTIK LAKA'] = df['KARAKTERISTIK LAKA'].str.strip()"
   ]
  },
  {
   "cell_type": "code",
   "execution_count": 87,
   "metadata": {},
   "outputs": [],
   "source": [
    "df['KODE_CIDERA'] = df['KODE_CIDERA'].replace({'LL': 'LUKA-LUKA', 'MD': 'MENINGGAL DUNIA', 'CT':'CEDERA RINGAN', 'PG':'PATAH TULANG'})\n"
   ]
  },
  {
   "cell_type": "code",
   "execution_count": 88,
   "metadata": {},
   "outputs": [
    {
     "name": "stdout",
     "output_type": "stream",
     "text": [
      "               DIAJUKAN_DI                     KAB_KOTA  \\\n",
      "0          PERWAKILAN PATI                         PATI   \n",
      "1      PERWAKILAN MAGELANG                     WONOSOBO   \n",
      "2      PERWAKILAN MAGELANG                     WONOSOBO   \n",
      "3      PERWAKILAN MAGELANG                     WONOSOBO   \n",
      "4      PERWAKILAN MAGELANG                   TEMANGGUNG   \n",
      "...                    ...                          ...   \n",
      "36050      PERWAKILAN PATI                        BLORA   \n",
      "36051          KPJR KLATEN                       KLATEN   \n",
      "36052          KPJR WANGON    SATLANTAS METRO JAK BARAT   \n",
      "36053           KPJR DEMAK               KOTA  SEMARANG   \n",
      "36054           KPJR TEGAL  SATLANTAS METRO JAK SELATAN   \n",
      "\n",
      "                         KECAMATAN      KODE_CIDERA           PROFESI  \\\n",
      "0                             PATI        LUKA-LUKA        WIRASWASTA   \n",
      "1                         WONOSOBO  MENINGGAL DUNIA        WIRASWASTA   \n",
      "2                         WONOSOBO        LUKA-LUKA        WIRASWASTA   \n",
      "3                         WONOSOBO  MENINGGAL DUNIA         TNI POLRI   \n",
      "4                       TEMANGGUNG  MENINGGAL DUNIA        WIRASWASTA   \n",
      "...                            ...              ...               ...   \n",
      "36050                        BLORA        LUKA-LUKA      BURUH PETANI   \n",
      "36051                       KLATEN        LUKA-LUKA  IBU RUMAH TANGGA   \n",
      "36052    SATLANTAS METRO JAK BARAT  MENINGGAL DUNIA      BURUH PETANI   \n",
      "36053               KOTA  SEMARANG        LUKA-LUKA        WIRASWASTA   \n",
      "36054  SATLANTAS METRO JAK SELATAN  MENINGGAL DUNIA         LAIN LAIN   \n",
      "\n",
      "            KARAKTERISTIK LAKA           DATE_TIME  \n",
      "0               BERUNTUN/GANDA 2023-01-02 06:30:00  \n",
      "1                  DEPAN-DEPAN 2023-01-07 21:00:00  \n",
      "2      PEJALAN-KAKI/SEJENISNYA 2023-01-07 21:00:00  \n",
      "3                DEPAN-SAMPING 2023-01-20 05:00:00  \n",
      "4                  DEPAN-DEPAN 2023-01-24 02:30:00  \n",
      "...                        ...                 ...  \n",
      "36050              DEPAN-DEPAN 2024-04-11 14:30:00  \n",
      "36051            DEPAN-SAMPING 2024-04-12 10:00:00  \n",
      "36052           DEPAN-BELAKANG 2024-04-29 03:12:00  \n",
      "36053          SAMPING-SAMPING 2024-04-06 11:30:00  \n",
      "36054  PEJALAN-KAKI/SEJENISNYA 2024-04-27 04:10:00  \n",
      "\n",
      "[30981 rows x 7 columns]\n"
     ]
    }
   ],
   "source": [
    "df['KAB_KOTA'] = df['KAB_KOTA'].str.strip()\n",
    "df['KECAMATAN'] = df['KECAMATAN'].str.strip()\n",
    "\n",
    "print(df)"
   ]
  },
  {
   "cell_type": "code",
   "execution_count": 89,
   "metadata": {},
   "outputs": [
    {
     "name": "stdout",
     "output_type": "stream",
     "text": [
      "               DIAJUKAN_DI                     KAB_KOTA  \\\n",
      "0          PERWAKILAN PATI                         PATI   \n",
      "1      PERWAKILAN MAGELANG                     WONOSOBO   \n",
      "2      PERWAKILAN MAGELANG                     WONOSOBO   \n",
      "3      PERWAKILAN MAGELANG                     WONOSOBO   \n",
      "4      PERWAKILAN MAGELANG                   TEMANGGUNG   \n",
      "...                    ...                          ...   \n",
      "36050      PERWAKILAN PATI                        BLORA   \n",
      "36051          KPJR KLATEN                       KLATEN   \n",
      "36052          KPJR WANGON    SATLANTAS METRO JAK BARAT   \n",
      "36053           KPJR DEMAK               KOTA  SEMARANG   \n",
      "36054           KPJR TEGAL  SATLANTAS METRO JAK SELATAN   \n",
      "\n",
      "                         KECAMATAN      KODE_CIDERA           PROFESI  \\\n",
      "0                             PATI        LUKA-LUKA        WIRASWASTA   \n",
      "1                         WONOSOBO  MENINGGAL DUNIA        WIRASWASTA   \n",
      "2                         WONOSOBO        LUKA-LUKA        WIRASWASTA   \n",
      "3                         WONOSOBO  MENINGGAL DUNIA         TNI POLRI   \n",
      "4                       TEMANGGUNG  MENINGGAL DUNIA        WIRASWASTA   \n",
      "...                            ...              ...               ...   \n",
      "36050                        BLORA        LUKA-LUKA      BURUH PETANI   \n",
      "36051                       KLATEN        LUKA-LUKA  IBU RUMAH TANGGA   \n",
      "36052    SATLANTAS METRO JAK BARAT  MENINGGAL DUNIA      BURUH PETANI   \n",
      "36053               KOTA  SEMARANG        LUKA-LUKA        WIRASWASTA   \n",
      "36054  SATLANTAS METRO JAK SELATAN  MENINGGAL DUNIA         LAIN LAIN   \n",
      "\n",
      "            KARAKTERISTIK LAKA           DATE_TIME JENIS_KENDARAAN  \n",
      "0               BERUNTUN/GANDA 2023-01-02 06:30:00           MOTOR  \n",
      "1                  DEPAN-DEPAN 2023-01-07 21:00:00           MOTOR  \n",
      "2      PEJALAN-KAKI/SEJENISNYA 2023-01-07 21:00:00           MOBIL  \n",
      "3                DEPAN-SAMPING 2023-01-20 05:00:00           MOTOR  \n",
      "4                  DEPAN-DEPAN 2023-01-24 02:30:00           MOTOR  \n",
      "...                        ...                 ...             ...  \n",
      "36050              DEPAN-DEPAN 2024-04-11 14:30:00           MOTOR  \n",
      "36051            DEPAN-SAMPING 2024-04-12 10:00:00           MOBIL  \n",
      "36052           DEPAN-BELAKANG 2024-04-29 03:12:00           MOBIL  \n",
      "36053          SAMPING-SAMPING 2024-04-06 11:30:00           MOBIL  \n",
      "36054  PEJALAN-KAKI/SEJENISNYA 2024-04-27 04:10:00           MOTOR  \n",
      "\n",
      "[30981 rows x 8 columns]\n"
     ]
    }
   ],
   "source": [
    "df['JENIS_KENDARAAN'] = [random.choice(['MOBIL', 'MOTOR']) for _ in range(len(df))]\n",
    "\n",
    "print(df)"
   ]
  },
  {
   "cell_type": "code",
   "execution_count": 90,
   "metadata": {},
   "outputs": [],
   "source": [
    "kab_kota_jateng = [\n",
    "    'BANJARNEGARA', 'BANYUMAS', 'BATANG', 'BLORA', 'BOYOLALI', 'BREBES', 'CILACAP', \n",
    "    'DEMAK', 'GROBOGAN', 'JEPARA', 'KARANGANYAR', 'KEBUMEN', 'KENDAL', 'KLATEN',\n",
    "    'KUDUS', 'MAGELANG', 'PATI', 'PEKALONGAN', 'PEMALANG', 'PURBALINGGA', \n",
    "    'PURWOREJO', 'REMBANG', 'SUKOHARJO', 'TEGAL', 'TEMANGGUNG', 'WONOGIRI', \n",
    "    'WONOSOBO', 'SEMARANG', 'SURAKARTA', 'SALATIGA', 'TEGAL KOTA', 'MAGELANG KOTA',\n",
    "    'SEMARANG KOTA', 'SEMARANG KABUPATEN', 'KOTA SURAKARTA'\n",
    "]"
   ]
  },
  {
   "cell_type": "code",
   "execution_count": 91,
   "metadata": {},
   "outputs": [
    {
     "name": "stdout",
     "output_type": "stream",
     "text": [
      "                DIAJUKAN_DI        KAB_KOTA       KECAMATAN      KODE_CIDERA  \\\n",
      "0           PERWAKILAN PATI            PATI            PATI        LUKA-LUKA   \n",
      "1       PERWAKILAN MAGELANG        WONOSOBO        WONOSOBO  MENINGGAL DUNIA   \n",
      "2       PERWAKILAN MAGELANG        WONOSOBO        WONOSOBO        LUKA-LUKA   \n",
      "3       PERWAKILAN MAGELANG        WONOSOBO        WONOSOBO  MENINGGAL DUNIA   \n",
      "4       PERWAKILAN MAGELANG      TEMANGGUNG      TEMANGGUNG  MENINGGAL DUNIA   \n",
      "...                     ...             ...             ...              ...   \n",
      "36047           KPJR KLATEN          KLATEN          KLATEN  MENINGGAL DUNIA   \n",
      "36048  PERWAKILAN SURAKARTA  KOTA SURAKARTA  KOTA SURAKARTA  MENINGGAL DUNIA   \n",
      "36049   PERWAKILAN MAGELANG        MAGELANG        MAGELANG  MENINGGAL DUNIA   \n",
      "36050       PERWAKILAN PATI           BLORA           BLORA        LUKA-LUKA   \n",
      "36051           KPJR KLATEN          KLATEN          KLATEN        LUKA-LUKA   \n",
      "\n",
      "                 PROFESI       KARAKTERISTIK LAKA           DATE_TIME  \\\n",
      "0             WIRASWASTA           BERUNTUN/GANDA 2023-01-02 06:30:00   \n",
      "1             WIRASWASTA              DEPAN-DEPAN 2023-01-07 21:00:00   \n",
      "2             WIRASWASTA  PEJALAN-KAKI/SEJENISNYA 2023-01-07 21:00:00   \n",
      "3              TNI POLRI            DEPAN-SAMPING 2023-01-20 05:00:00   \n",
      "4             WIRASWASTA              DEPAN-DEPAN 2023-01-24 02:30:00   \n",
      "...                  ...                      ...                 ...   \n",
      "36047       BURUH PETANI  PEJALAN-KAKI/SEJENISNYA 2024-04-27 07:00:00   \n",
      "36048    KARYAWAN SWASTA  PEJALAN-KAKI/SEJENISNYA 2024-04-14 17:40:00   \n",
      "36049  PELAJAR MAHASISWA          SAMPING-SAMPING 2024-04-29 20:10:00   \n",
      "36050       BURUH PETANI              DEPAN-DEPAN 2024-04-11 14:30:00   \n",
      "36051   IBU RUMAH TANGGA            DEPAN-SAMPING 2024-04-12 10:00:00   \n",
      "\n",
      "      JENIS_KENDARAAN  \n",
      "0               MOTOR  \n",
      "1               MOTOR  \n",
      "2               MOBIL  \n",
      "3               MOTOR  \n",
      "4               MOTOR  \n",
      "...               ...  \n",
      "36047           MOBIL  \n",
      "36048           MOTOR  \n",
      "36049           MOTOR  \n",
      "36050           MOTOR  \n",
      "36051           MOBIL  \n",
      "\n",
      "[24134 rows x 8 columns]\n"
     ]
    }
   ],
   "source": [
    "df_filtered = df[df['KAB_KOTA'].isin(kab_kota_jateng)]\n",
    "\n",
    "print(df_filtered)\n"
   ]
  },
  {
   "cell_type": "code",
   "execution_count": 92,
   "metadata": {},
   "outputs": [],
   "source": [
    "df_filtered.to_csv('processed_data_laka.csv', index=False)\n"
   ]
  },
  {
   "cell_type": "code",
   "execution_count": 93,
   "metadata": {},
   "outputs": [
    {
     "data": {
      "text/html": [
       "<div>\n",
       "<style scoped>\n",
       "    .dataframe tbody tr th:only-of-type {\n",
       "        vertical-align: middle;\n",
       "    }\n",
       "\n",
       "    .dataframe tbody tr th {\n",
       "        vertical-align: top;\n",
       "    }\n",
       "\n",
       "    .dataframe thead th {\n",
       "        text-align: right;\n",
       "    }\n",
       "</style>\n",
       "<table border=\"1\" class=\"dataframe\">\n",
       "  <thead>\n",
       "    <tr style=\"text-align: right;\">\n",
       "      <th></th>\n",
       "      <th>DIAJUKAN_DI</th>\n",
       "      <th>KAB_KOTA</th>\n",
       "      <th>KECAMATAN</th>\n",
       "      <th>KODE_CIDERA</th>\n",
       "      <th>PROFESI</th>\n",
       "      <th>KARAKTERISTIK LAKA</th>\n",
       "      <th>DATE_TIME</th>\n",
       "      <th>JENIS_KENDARAAN</th>\n",
       "    </tr>\n",
       "  </thead>\n",
       "  <tbody>\n",
       "    <tr>\n",
       "      <th>0</th>\n",
       "      <td>PERWAKILAN PATI</td>\n",
       "      <td>PATI</td>\n",
       "      <td>PATI</td>\n",
       "      <td>LUKA-LUKA</td>\n",
       "      <td>WIRASWASTA</td>\n",
       "      <td>BERUNTUN/GANDA</td>\n",
       "      <td>2023-01-02 06:30:00</td>\n",
       "      <td>MOTOR</td>\n",
       "    </tr>\n",
       "    <tr>\n",
       "      <th>1</th>\n",
       "      <td>PERWAKILAN MAGELANG</td>\n",
       "      <td>WONOSOBO</td>\n",
       "      <td>WONOSOBO</td>\n",
       "      <td>MENINGGAL DUNIA</td>\n",
       "      <td>WIRASWASTA</td>\n",
       "      <td>DEPAN-DEPAN</td>\n",
       "      <td>2023-01-07 21:00:00</td>\n",
       "      <td>MOTOR</td>\n",
       "    </tr>\n",
       "    <tr>\n",
       "      <th>2</th>\n",
       "      <td>PERWAKILAN MAGELANG</td>\n",
       "      <td>WONOSOBO</td>\n",
       "      <td>WONOSOBO</td>\n",
       "      <td>LUKA-LUKA</td>\n",
       "      <td>WIRASWASTA</td>\n",
       "      <td>PEJALAN-KAKI/SEJENISNYA</td>\n",
       "      <td>2023-01-07 21:00:00</td>\n",
       "      <td>MOBIL</td>\n",
       "    </tr>\n",
       "    <tr>\n",
       "      <th>3</th>\n",
       "      <td>PERWAKILAN MAGELANG</td>\n",
       "      <td>WONOSOBO</td>\n",
       "      <td>WONOSOBO</td>\n",
       "      <td>MENINGGAL DUNIA</td>\n",
       "      <td>TNI POLRI</td>\n",
       "      <td>DEPAN-SAMPING</td>\n",
       "      <td>2023-01-20 05:00:00</td>\n",
       "      <td>MOTOR</td>\n",
       "    </tr>\n",
       "    <tr>\n",
       "      <th>4</th>\n",
       "      <td>PERWAKILAN MAGELANG</td>\n",
       "      <td>TEMANGGUNG</td>\n",
       "      <td>TEMANGGUNG</td>\n",
       "      <td>MENINGGAL DUNIA</td>\n",
       "      <td>WIRASWASTA</td>\n",
       "      <td>DEPAN-DEPAN</td>\n",
       "      <td>2023-01-24 02:30:00</td>\n",
       "      <td>MOTOR</td>\n",
       "    </tr>\n",
       "  </tbody>\n",
       "</table>\n",
       "</div>"
      ],
      "text/plain": [
       "           DIAJUKAN_DI    KAB_KOTA   KECAMATAN      KODE_CIDERA     PROFESI  \\\n",
       "0      PERWAKILAN PATI        PATI        PATI        LUKA-LUKA  WIRASWASTA   \n",
       "1  PERWAKILAN MAGELANG    WONOSOBO    WONOSOBO  MENINGGAL DUNIA  WIRASWASTA   \n",
       "2  PERWAKILAN MAGELANG    WONOSOBO    WONOSOBO        LUKA-LUKA  WIRASWASTA   \n",
       "3  PERWAKILAN MAGELANG    WONOSOBO    WONOSOBO  MENINGGAL DUNIA   TNI POLRI   \n",
       "4  PERWAKILAN MAGELANG  TEMANGGUNG  TEMANGGUNG  MENINGGAL DUNIA  WIRASWASTA   \n",
       "\n",
       "        KARAKTERISTIK LAKA            DATE_TIME JENIS_KENDARAAN  \n",
       "0           BERUNTUN/GANDA  2023-01-02 06:30:00           MOTOR  \n",
       "1              DEPAN-DEPAN  2023-01-07 21:00:00           MOTOR  \n",
       "2  PEJALAN-KAKI/SEJENISNYA  2023-01-07 21:00:00           MOBIL  \n",
       "3            DEPAN-SAMPING  2023-01-20 05:00:00           MOTOR  \n",
       "4              DEPAN-DEPAN  2023-01-24 02:30:00           MOTOR  "
      ]
     },
     "execution_count": 93,
     "metadata": {},
     "output_type": "execute_result"
    }
   ],
   "source": [
    "df = pd.read_csv('processed_data_laka.csv')\n",
    "df.head()"
   ]
  },
  {
   "cell_type": "code",
   "execution_count": 94,
   "metadata": {},
   "outputs": [],
   "source": [
    "geo_data = {\n",
    "    'BANJARNEGARA': {'latitude': -7.3962, 'longitude': 109.6993},\n",
    "    'BANYUMAS': {'latitude': -7.5143, 'longitude': 109.2432},\n",
    "    'BATANG': {'latitude': -6.9277, 'longitude': 109.7367},\n",
    "    'BLORA': {'latitude': -6.9723, 'longitude': 111.4189},\n",
    "    'BOYOLALI': {'latitude': -7.5286, 'longitude': 110.5962},\n",
    "    'BREBES': {'latitude': -6.8705, 'longitude': 109.0322},\n",
    "    'CILACAP': {'latitude': -7.7170, 'longitude': 109.0113},\n",
    "    'TA CILACAP': {'latitude': -7.7170, 'longitude': 109.0113},\n",
    "    'DEMAK': {'latitude': -6.8909, 'longitude': 110.6398},\n",
    "    'GROBOGAN': {'latitude': -7.0883, 'longitude': 110.9203},\n",
    "    'JEPARA': {'latitude': -6.5852, 'longitude': 110.6780},\n",
    "    'KARANGANYAR': {'latitude': -7.6166, 'longitude': 110.9504},\n",
    "    'KEBUMEN': {'latitude': -7.6775, 'longitude': 109.6526},\n",
    "    'KENDAL': {'latitude': -6.9240, 'longitude': 110.2055},\n",
    "    'KLATEN': {'latitude': -7.7114, 'longitude': 110.6069},\n",
    "    'KUDUS': {'latitude': -6.8048, 'longitude': 110.8405},\n",
    "    'MAGELANG': {'latitude': -7.4717, 'longitude': 110.2176},\n",
    "    'MAGELANG KOTA': {'latitude': -7.4664, 'longitude': 110.2177},\n",
    "    'PATI': {'latitude': -6.7528, 'longitude': 111.0388},\n",
    "    'PEMALANG': {'latitude': -6.8915, 'longitude': 109.3797},\n",
    "    'PEKALONGAN': {'latitude': -6.8889, 'longitude': 109.6756},\n",
    "    'PEKALONGAN KOTA': {'latitude': -6.8896, 'longitude': 109.6745},\n",
    "    'PURBALINGGA': {'latitude': -7.3989, 'longitude': 109.3636},\n",
    "    'PURWOREJO': {'latitude': -7.7404, 'longitude': 110.0031},\n",
    "    'REMBANG': {'latitude': -6.7087, 'longitude': 111.4500},\n",
    "    'SALATIGA': {'latitude': -7.3305, 'longitude': 110.5084},\n",
    "    'SEMARANG': {'latitude': -7.1500, 'longitude': 110.4008},\n",
    "    'SEMARANG KOTA': {'latitude': -6.9667, 'longitude': 110.4167},\n",
    "    'SRAGEN': {'latitude': -7.4264, 'longitude': 110.8160},\n",
    "    'SUKOHARJO': {'latitude': -7.6833, 'longitude': 110.8333},\n",
    "    'SURAKARTA': {'latitude': -7.5666, 'longitude': 110.8165},\n",
    "    'KOTA SURAKARTA': {'latitude': -7.5666, 'longitude': 110.8165},\n",
    "    'TEGAL': {'latitude': -6.8797, 'longitude': 109.1256},\n",
    "    'TEGAL KOTA': {'latitude': -6.8697, 'longitude': 109.1425},\n",
    "    'TEMANGGUNG': {'latitude': -7.3100, 'longitude': 110.1605},\n",
    "    'WONOGIRI': {'latitude': -7.8700, 'longitude': 110.9247},\n",
    "    'WONOSOBO': {'latitude': -7.3610, 'longitude': 109.9007},\n",
    "}"
   ]
  },
  {
   "cell_type": "code",
   "execution_count": 95,
   "metadata": {},
   "outputs": [],
   "source": [
    "df['latitude'] = df['KAB_KOTA'].map(lambda x: geo_data[x]['latitude'] if x in geo_data else np.nan)\n",
    "df['longitude'] = df['KAB_KOTA'].map(lambda x: geo_data[x]['longitude'] if x in geo_data else np.nan)"
   ]
  },
  {
   "cell_type": "code",
   "execution_count": 96,
   "metadata": {},
   "outputs": [
    {
     "data": {
      "text/html": [
       "<div>\n",
       "<style scoped>\n",
       "    .dataframe tbody tr th:only-of-type {\n",
       "        vertical-align: middle;\n",
       "    }\n",
       "\n",
       "    .dataframe tbody tr th {\n",
       "        vertical-align: top;\n",
       "    }\n",
       "\n",
       "    .dataframe thead th {\n",
       "        text-align: right;\n",
       "    }\n",
       "</style>\n",
       "<table border=\"1\" class=\"dataframe\">\n",
       "  <thead>\n",
       "    <tr style=\"text-align: right;\">\n",
       "      <th></th>\n",
       "      <th>DIAJUKAN_DI</th>\n",
       "      <th>KAB_KOTA</th>\n",
       "      <th>KECAMATAN</th>\n",
       "      <th>KODE_CIDERA</th>\n",
       "      <th>PROFESI</th>\n",
       "      <th>KARAKTERISTIK LAKA</th>\n",
       "      <th>DATE_TIME</th>\n",
       "      <th>JENIS_KENDARAAN</th>\n",
       "      <th>latitude</th>\n",
       "      <th>longitude</th>\n",
       "    </tr>\n",
       "  </thead>\n",
       "  <tbody>\n",
       "    <tr>\n",
       "      <th>0</th>\n",
       "      <td>PERWAKILAN PATI</td>\n",
       "      <td>PATI</td>\n",
       "      <td>PATI</td>\n",
       "      <td>LUKA-LUKA</td>\n",
       "      <td>WIRASWASTA</td>\n",
       "      <td>BERUNTUN/GANDA</td>\n",
       "      <td>2023-01-02 06:30:00</td>\n",
       "      <td>MOTOR</td>\n",
       "      <td>-6.7528</td>\n",
       "      <td>111.0388</td>\n",
       "    </tr>\n",
       "    <tr>\n",
       "      <th>1</th>\n",
       "      <td>PERWAKILAN MAGELANG</td>\n",
       "      <td>WONOSOBO</td>\n",
       "      <td>WONOSOBO</td>\n",
       "      <td>MENINGGAL DUNIA</td>\n",
       "      <td>WIRASWASTA</td>\n",
       "      <td>DEPAN-DEPAN</td>\n",
       "      <td>2023-01-07 21:00:00</td>\n",
       "      <td>MOTOR</td>\n",
       "      <td>-7.3610</td>\n",
       "      <td>109.9007</td>\n",
       "    </tr>\n",
       "    <tr>\n",
       "      <th>2</th>\n",
       "      <td>PERWAKILAN MAGELANG</td>\n",
       "      <td>WONOSOBO</td>\n",
       "      <td>WONOSOBO</td>\n",
       "      <td>LUKA-LUKA</td>\n",
       "      <td>WIRASWASTA</td>\n",
       "      <td>PEJALAN-KAKI/SEJENISNYA</td>\n",
       "      <td>2023-01-07 21:00:00</td>\n",
       "      <td>MOBIL</td>\n",
       "      <td>-7.3610</td>\n",
       "      <td>109.9007</td>\n",
       "    </tr>\n",
       "    <tr>\n",
       "      <th>3</th>\n",
       "      <td>PERWAKILAN MAGELANG</td>\n",
       "      <td>WONOSOBO</td>\n",
       "      <td>WONOSOBO</td>\n",
       "      <td>MENINGGAL DUNIA</td>\n",
       "      <td>TNI POLRI</td>\n",
       "      <td>DEPAN-SAMPING</td>\n",
       "      <td>2023-01-20 05:00:00</td>\n",
       "      <td>MOTOR</td>\n",
       "      <td>-7.3610</td>\n",
       "      <td>109.9007</td>\n",
       "    </tr>\n",
       "    <tr>\n",
       "      <th>4</th>\n",
       "      <td>PERWAKILAN MAGELANG</td>\n",
       "      <td>TEMANGGUNG</td>\n",
       "      <td>TEMANGGUNG</td>\n",
       "      <td>MENINGGAL DUNIA</td>\n",
       "      <td>WIRASWASTA</td>\n",
       "      <td>DEPAN-DEPAN</td>\n",
       "      <td>2023-01-24 02:30:00</td>\n",
       "      <td>MOTOR</td>\n",
       "      <td>-7.3100</td>\n",
       "      <td>110.1605</td>\n",
       "    </tr>\n",
       "  </tbody>\n",
       "</table>\n",
       "</div>"
      ],
      "text/plain": [
       "           DIAJUKAN_DI    KAB_KOTA   KECAMATAN      KODE_CIDERA     PROFESI  \\\n",
       "0      PERWAKILAN PATI        PATI        PATI        LUKA-LUKA  WIRASWASTA   \n",
       "1  PERWAKILAN MAGELANG    WONOSOBO    WONOSOBO  MENINGGAL DUNIA  WIRASWASTA   \n",
       "2  PERWAKILAN MAGELANG    WONOSOBO    WONOSOBO        LUKA-LUKA  WIRASWASTA   \n",
       "3  PERWAKILAN MAGELANG    WONOSOBO    WONOSOBO  MENINGGAL DUNIA   TNI POLRI   \n",
       "4  PERWAKILAN MAGELANG  TEMANGGUNG  TEMANGGUNG  MENINGGAL DUNIA  WIRASWASTA   \n",
       "\n",
       "        KARAKTERISTIK LAKA            DATE_TIME JENIS_KENDARAAN  latitude  \\\n",
       "0           BERUNTUN/GANDA  2023-01-02 06:30:00           MOTOR   -6.7528   \n",
       "1              DEPAN-DEPAN  2023-01-07 21:00:00           MOTOR   -7.3610   \n",
       "2  PEJALAN-KAKI/SEJENISNYA  2023-01-07 21:00:00           MOBIL   -7.3610   \n",
       "3            DEPAN-SAMPING  2023-01-20 05:00:00           MOTOR   -7.3610   \n",
       "4              DEPAN-DEPAN  2023-01-24 02:30:00           MOTOR   -7.3100   \n",
       "\n",
       "   longitude  \n",
       "0   111.0388  \n",
       "1   109.9007  \n",
       "2   109.9007  \n",
       "3   109.9007  \n",
       "4   110.1605  "
      ]
     },
     "execution_count": 96,
     "metadata": {},
     "output_type": "execute_result"
    }
   ],
   "source": [
    "df.head()"
   ]
  },
  {
   "cell_type": "code",
   "execution_count": 97,
   "metadata": {},
   "outputs": [],
   "source": [
    "df.to_csv('dataset_laka.csv', index=False)\n"
   ]
  }
 ],
 "metadata": {
  "kernelspec": {
   "display_name": "Python 3",
   "language": "python",
   "name": "python3"
  },
  "language_info": {
   "codemirror_mode": {
    "name": "ipython",
    "version": 3
   },
   "file_extension": ".py",
   "mimetype": "text/x-python",
   "name": "python",
   "nbconvert_exporter": "python",
   "pygments_lexer": "ipython3",
   "version": "3.11.9"
  }
 },
 "nbformat": 4,
 "nbformat_minor": 2
}
